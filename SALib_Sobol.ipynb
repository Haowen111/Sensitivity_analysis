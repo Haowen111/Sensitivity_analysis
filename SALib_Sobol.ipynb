{
 "cells": [
  {
   "cell_type": "code",
   "execution_count": 1,
   "id": "a7411029",
   "metadata": {},
   "outputs": [],
   "source": [
    "# 导入库\n",
    "import numpy as np                                    \n",
    "import pandas as pd   \n",
    "import matplotlib.pyplot as plt  \n",
    "import seaborn as sns\n",
    "\n",
    "from SALib.analyze import sobol                        \n",
    "from SALib.plotting.bar import plot as barplot         \n",
    "from SALib.sample import saltelli                    \n",
    "\n",
    "from sklearn.gaussian_process import GaussianProcessRegressor    \n",
    "from sklearn.preprocessing import MinMaxScaler                   "
   ]
  },
  {
   "cell_type": "code",
   "execution_count": 2,
   "id": "31e2c90a",
   "metadata": {},
   "outputs": [],
   "source": [
    "# 读取表格\n",
    "excel_file_path = \"C:/Users/lenovo/Desktop/拉丁超立方采样/test.xlsx\"           # 定义excel路径变量\n",
    "\n",
    "data = pd.read_excel(excel_file_path)                        # 读取excel变量，'data'为读取excel后生成的DataFrame\n",
    "\n",
    "col_name = list(data.columns.values)                         # 构建excel列名称列表，'col_name'为excel的列名\n",
    "\n",
    "# print('data:'); print(data)                                # 显示data\n",
    "# print('col_name:'); print(col_name)                        # 显示col_name\n",
    "# print('data_shape:'); print(data.shape)                    # 显示data的规模，前行数，后列数\n",
    "# print('data_rows:'); print(data.shape[0])                  # 显示data的行数\n",
    "# print('data_columns:'); print(data.shape[1])               # 显示data的列数"
   ]
  },
  {
   "cell_type": "code",
   "execution_count": null,
   "id": "ce5472b1",
   "metadata": {},
   "outputs": [],
   "source": [
    "# 预操作\n",
    "value = data.values                                          # 定义value变量, 为data的值\n",
    "rows = data.shape[0]                                         # 获取表格行数rows\n",
    "num = data.shape[1]-3                                        # 获取表格变量数num\n",
    "a = data.shape[0] % (2 * num + 2)                            # 定义a为：行数取模（2×（列数-3）+2）\n",
    "b = int((data.shape[0] - a) / ( 2 * num + 2))                # 定义b为：整型(行数-a)/(2×（列数-3）+2)，b为后续采样数\n",
    "\n",
    "# print('value:'); print(value)                              # 显示value\n",
    "# print('rows:'); print(rows)                                # 显示value\n",
    "# print('num:'); print(num)                                  # 显示value\n",
    "# print('a:'); print(a)                                      # 显示a\n",
    "# print('b:'); print(b)                                      # 显示b"
   ]
  },
  {
   "cell_type": "code",
   "execution_count": 4,
   "id": "2eeddd70",
   "metadata": {},
   "outputs": [],
   "source": [
    "# 设置训练集\n",
    "x = np.array(value[0:rows - a, 0:num])                       # 定义x,为：创建数组（value中的值，行数：0~行数-a, 列数：0~列数-3（即除最后3列的列））\n",
    "x_train = x                                                  # 定义训练集x_trian = x\n",
    "\n",
    "y = np.array(value[0:rows - a, num:27])                      # 定义y,为：创建数组（value中的值，行数：0~行数-a，列数：（即最后3列））\n",
    "y_train = y                                                  # 定义训练集y_trian = y\n",
    "\n",
    "# print('x_train:'); print(x_train)                            # 显示x_train\n",
    "# print('x_train_shape:'); print(x_train.shape)                # 显示x_train.shape\n",
    "# print('y_train:'); print(y_train)                            # 显示y_train\n",
    "# print('y_train_shape:'); print(y_train.shape)                # 显示y_train.shape\n",
    "\n",
    "# y_train = y_train.reshape(-1, 1)                           # 将y_trian转化为1列\n",
    "# print('y_train:'); print(y_train)                          # 显示y_train\n",
    "# print('y_train_shape:'); print(y_train.shape)              # 显示y_train.shape"
   ]
  },
  {
   "cell_type": "code",
   "execution_count": 5,
   "id": "1e3aff01",
   "metadata": {},
   "outputs": [],
   "source": [
    "# 回归准备\n",
    "scaler = MinMaxScaler()                                     # 定义scaler函数，为‘数据归一化’操作\n",
    "x_train = scaler.fit_transform(x_train)                     # 对x_train进行数据归一化操作\n",
    "\n",
    "# print('x_train_scaler:'); print(x_train)                    # 显示归一化后的x_train"
   ]
  },
  {
   "cell_type": "code",
   "execution_count": 6,
   "id": "7ffbe56b",
   "metadata": {},
   "outputs": [],
   "source": [
    "# 回归\n",
    "reg = GaussianProcessRegressor()                         # 定义reg函数，为‘高斯过程回归’操作\n",
    "reg_1 = reg.fit(x_train, y_train)                        # 拟合\n",
    "\n",
    "# print(reg_1.score(x_train, y_train))                     # 显示拟合分数"
   ]
  },
  {
   "cell_type": "code",
   "execution_count": 7,
   "id": "031520aa",
   "metadata": {},
   "outputs": [],
   "source": [
    "# 敏感性分析问题描述\n",
    "num_vars = num                                              # 定义变量数目num_vars：列数-3\n",
    "names = col_name[:num]                                      # 定义变量名names：list1表中序号0~（列数-3）\n",
    "bounds = [[0, 1] for i in range(num)]                       # 定义边界条件bounds：均为[0,1]\n",
    "\n",
    "# print('num_vars:'); print(num_vars)                         # 显示x_train\n",
    "# print('names:'); print(names)                               # 显示x_train.shape\n",
    "# print('bounds:'); print(bounds)                             # 显示bounds\n",
    "\n",
    "problem = {                                                 # 描述问题\n",
    "    'num_vars': num_vars,                                   # 变量数目：列数-3\n",
    "    'names': names,                                         # 变量名：list1表中序号0~（列数-3）\n",
    "    'bounds': bounds   }                                    # 边界条件，均为[0, 1]       "
   ]
  },
  {
   "cell_type": "code",
   "execution_count": null,
   "id": "f1c1f997",
   "metadata": {},
   "outputs": [],
   "source": [
    "# 采样\n",
    "param_values = saltelli.sample(problem, b)               # 定义param_values函数，为saltelli采样，对象为problem, 采样数为b\n",
    "\n",
    "# print(param_values)                                    \n",
    "# print(param_values.shape)"
   ]
  },
  {
   "cell_type": "code",
   "execution_count": 11,
   "id": "b8e3dc26",
   "metadata": {},
   "outputs": [],
   "source": [
    "# 数据结构处理\n",
    "param_values = np.array(param_values).reshape(-1, 1)         # 原param_values取值转化为1列\n",
    "# print(param_values)\n",
    "# print(param_values.shape)\n",
    "\n",
    "param_values = scaler.fit_transform(param_values)            # 对param_values进行数据归一化操作\n",
    "# print(param_values)\n",
    "# print(param_values.shape)\n",
    "\n",
    "param_values = param_values.reshape(-1, num)                  # 原param_values取值转化为num列\n",
    "# print(param_values)\n",
    "# print(param_values.shape)"
   ]
  },
  {
   "cell_type": "code",
   "execution_count": 12,
   "id": "1964919e",
   "metadata": {},
   "outputs": [],
   "source": [
    "# 预测\n",
    "R = reg.predict(param_values)                             # 回归预测\n",
    "# print(R)\n",
    "# print(R.shape)\n",
    "\n",
    "R1 = R.reshape(-1)\n",
    "# print(R1)\n",
    "# print(R1.shape)"
   ]
  },
  {
   "cell_type": "code",
   "execution_count": null,
   "id": "d959d070",
   "metadata": {},
   "outputs": [],
   "source": [
    "# 评估模型\n",
    "Si = sobol.analyze(problem, R1, print_to_console = True)     # 评估模型\n",
    "\n",
    "total_Si, first_Si, second_Si = Si.to_df()                # 将总阶效应、一阶效应、二阶效应分别输出为DataFrame\n",
    "# print(total_Si)                                         # 显示总阶效应\n",
    "# print(first_Si)                                         # 显示一阶效应\n",
    "# print(second_Si)                                        # 显示二阶效应"
   ]
  },
  {
   "cell_type": "code",
   "execution_count": null,
   "id": "d105ac9b",
   "metadata": {
    "scrolled": false
   },
   "outputs": [],
   "source": [
    "# 显示结果 \n",
    "# print(\"-------------------------------------- Sobol Result --------------------------------------\")\n",
    "# for (key, value) in Si.items():\n",
    "#     print(str(key)+':')\n",
    "#     print(value)\n",
    "\n",
    "# 输出结果\n",
    "# excel_file = pd.ExcelWriter('Sobol_indices.xlsx')       \n",
    "# # 定义文件变量，输入文件名\n",
    "# total_Si.to_excel(excel_file, sheet_name = 'total_Si')                     # 将总阶效应输入Sheet1\n",
    "# first_Si.to_excel(excel_file, sheet_name = 'first_Si')                     # 将一阶效应输入Sheet2\n",
    "# second_Si.to_excel(excel_file, sheet_name = 'second_Si')                   # 将二阶效应输入Shett3\n",
    "# excel_file.save()                                                          # 保存表格\n",
    "\n",
    "# 输出图像\n",
    "st = total_Si[['ST']].round(5) \n",
    "st_1 = st.copy()                                                      \n",
    "st_1.sort_values('ST', inplace = True, ascending = False)\n",
    "st_2 = st_1.T\n",
    "\n",
    "plt.figure(figsize = (18, 8), dpi = 300)\n",
    "ax = sns.barplot(data = st_2, orient = 'h', palette = 'Blues_r')    \n",
    "plt.xlabel('Sensitivity', fontsize = 15)\n",
    "plt.ylabel('Design Variable', fontsize = 15)\n",
    "ax.bar_label(ax.containers[0])\n",
    "\n",
    "# barplot(first_Si)                                         # 输出一阶效应图像\n",
    "# plot.show()\n",
    "\n",
    "# barplot(second_Si)                                        # 输出二阶效应图像\n",
    "# plot.show()"
   ]
  }
 ],
 "metadata": {
  "kernelspec": {
   "display_name": "Python 3 (ipykernel)",
   "language": "python",
   "name": "python3"
  },
  "language_info": {
   "codemirror_mode": {
    "name": "ipython",
    "version": 3
   },
   "file_extension": ".py",
   "mimetype": "text/x-python",
   "name": "python",
   "nbconvert_exporter": "python",
   "pygments_lexer": "ipython3",
   "version": "3.9.15"
  }
 },
 "nbformat": 4,
 "nbformat_minor": 5
}
